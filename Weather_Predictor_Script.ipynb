{
  "cells": [
    {
      "cell_type": "markdown",
      "metadata": {
        "id": "view-in-github",
        "colab_type": "text"
      },
      "source": [
        "<a href=\"https://colab.research.google.com/github/uyo36/verbose-adventure/blob/main/Weather_Predictor_Script.ipynb\" target=\"_parent\"><img src=\"https://colab.research.google.com/assets/colab-badge.svg\" alt=\"Open In Colab\"/></a>"
      ]
    },
    {
      "cell_type": "code",
      "source": [],
      "metadata": {
        "id": "9le4c0UgU9_O"
      },
      "execution_count": null,
      "outputs": []
    },
    {
      "cell_type": "code",
      "source": [
        "import requests # The requests library is used to make HTTP requests\n",
        "import json     # The json library is used to parse the JSON response\n",
        "\n",
        "def get_weather(city_name):\n",
        "    \"\"\"\n",
        "    Fetches and displays weather data for a given city using the OpenWeatherMap API.\n",
        "\n",
        "    Args:\n",
        "        city_name (str): The name of the city to get weather data for.\n",
        "    \"\"\"\n",
        "    api_key = 'c4e37c7603120b4a7a7b00466033c83e'\n",
        "    base_url = \"http://api.openweathermap.org/data/2.5/weather?\" # Define the base URL here\n",
        "\n",
        "    # Construct the full API URL with the city name, API key, and units (metric for Celsius)\n",
        "    complete_url = f\"{base_url}appid={api_key}&q={city_name}&units=metric\"\n",
        "\n",
        "    print(f\"Fetching weather data for '{city_name}'...\")\n",
        "\n",
        "    try:\n",
        "        # Send a GET request to the API\n",
        "        response = requests.get(complete_url)\n",
        "\n",
        "        # Check if the request was successful\n",
        "        if response.status_code == 200:\n",
        "            # Parse the JSON response\n",
        "            data = response.json()\n",
        "\n",
        "            # Extract key information from the response\n",
        "            main_data = data.get('main')\n",
        "            weather_data = data.get('weather')[0]\n",
        "            wind_data = data.get('wind')\n",
        "\n",
        "            if main_data and weather_data:\n",
        "                temperature = main_data.get('temp')\n",
        "                feels_like = main_data.get('feels_like')\n",
        "                humidity = main_data.get('humidity')\n",
        "                pressure = main_data.get('pressure')\n",
        "                weather_description = weather_data.get('description').capitalize()\n",
        "                wind_speed = wind_data.get('speed')\n",
        "\n",
        "                # Display the results\n",
        "                print(\"\\n--- Current Weather Report ---\")\n",
        "                print(f\"City: {city_name.capitalize()}\")\n",
        "                print(f\"Weather: {weather_description}\")\n",
        "                print(f\"Temperature: {temperature}°C (Feels like: {feels_like}°C)\")\n",
        "                print(f\"Humidity: {humidity}%\")\n",
        "                print(f\"Pressure: {pressure} hPa\")\n",
        "                print(f\"Wind Speed: {wind_speed} m/s\")\n",
        "                print(\"------------------------------\")\n",
        "            else:\n",
        "                print(\"Error: Could not parse weather data from the response.\")\n",
        "        else:\n",
        "            # Handle non-successful status codes\n",
        "            print(f\"Error fetching weather data. HTTP Status Code: {response.status_code}\")\n",
        "            print(\"Please check the city name and your API key.\")\n",
        "\n",
        "    except requests.exceptions.RequestException as e:\n",
        "        print(f\"An error occurred: {e}\")\n",
        "\n",
        "if __name__ == \"__main__\":\n",
        "    # Get the city name from the user\n",
        "    city_name_input = input(\"Enter a city name: \")\n",
        "\n",
        "    # Call the function to get and display the weather\n",
        "    get_weather(city_name_input)"
      ],
      "outputs": [
        {
          "output_type": "stream",
          "name": "stdout",
          "text": [
            "Enter a city name: lagos\n",
            "Fetching weather data for 'lagos'...\n",
            "\n",
            "--- Current Weather Report ---\n",
            "City: Lagos\n",
            "Weather: Overcast clouds\n",
            "Temperature: 26.2°C (Feels like: 26.2°C)\n",
            "Humidity: 73%\n",
            "Pressure: 1015 hPa\n",
            "Wind Speed: 2.95 m/s\n",
            "------------------------------\n"
          ]
        }
      ],
      "execution_count": 4,
      "metadata": {
        "colab": {
          "base_uri": "https://localhost:8080/"
        },
        "id": "xV2g1qkL9sxF",
        "outputId": "170acfb2-bd2f-4905-f17f-56a16c41344c"
      }
    }
  ],
  "metadata": {
    "colab": {
      "provenance": [],
      "include_colab_link": true
    },
    "kernelspec": {
      "display_name": "Python 3",
      "name": "python3"
    }
  },
  "nbformat": 4,
  "nbformat_minor": 0
}